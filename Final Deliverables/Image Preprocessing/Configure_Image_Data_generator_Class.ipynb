{
  "nbformat": 4,
  "nbformat_minor": 0,
  "metadata": {
    "colab": {
      "provenance": []
    },
    "kernelspec": {
      "name": "python3",
      "display_name": "Python 3"
    },
    "language_info": {
      "name": "python"
    },
    "accelerator": "GPU",
    "gpuClass": "standard"
  },
  "cells": [
    {
      "cell_type": "markdown",
      "source": [
        "# Importing ImageDataGenerator"
      ],
      "metadata": {
        "id": "iXm9Q6XirfBA"
      }
    },
    {
      "cell_type": "code",
      "execution_count": 1,
      "metadata": {
        "id": "AFo4KsE2rWtQ"
      },
      "outputs": [],
      "source": [
        "from keras.preprocessing.image import ImageDataGenerator"
      ]
    },
    {
      "cell_type": "markdown",
      "source": [
        "# Image Data Augmentation\n",
        "Configuring image Data Generator Class\n",
        "Setting Parameter for Image Augmentation for training data"
      ],
      "metadata": {
        "id": "hy4JqQBHrvGQ"
      }
    },
    {
      "cell_type": "code",
      "source": [
        "train_datagen = ImageDataGenerator(rescale = 1./255, shear_range = 0.2, zoom_range = 0.2, horizontal_flip = True)"
      ],
      "metadata": {
        "id": "LkvCC_FXrjeL"
      },
      "execution_count": 2,
      "outputs": []
    },
    {
      "cell_type": "markdown",
      "source": [
        "# Image Data Augmentation for testing data"
      ],
      "metadata": {
        "id": "3LCr8fUVsBTs"
      }
    },
    {
      "cell_type": "code",
      "source": [
        "test_datagen = ImageDataGenerator(rescale = 1./255)"
      ],
      "metadata": {
        "id": "e_kxBsO-sALv"
      },
      "execution_count": 3,
      "outputs": []
    }
  ]
}