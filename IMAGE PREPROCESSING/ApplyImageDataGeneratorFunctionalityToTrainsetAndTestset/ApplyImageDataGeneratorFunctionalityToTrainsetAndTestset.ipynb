{
  "nbformat": 4,
  "nbformat_minor": 0,
  "metadata": {
    "colab": {
      "provenance": []
    },
    "kernelspec": {
      "name": "python3",
      "display_name": "Python 3"
    },
    "language_info": {
      "name": "python"
    },
    "accelerator": "GPU",
    "gpuClass": "standard"
  },
  "cells": [
    {
      "cell_type": "code",
      "execution_count": 5,
      "metadata": {
        "id": "p3EQXk0p5zba",
        "colab": {
          "base_uri": "https://localhost:8080/"
        },
        "outputId": "37200fa8-1104-485e-9a0d-6cc78a336ce0"
      },
      "outputs": [
        {
          "output_type": "stream",
          "name": "stdout",
          "text": [
            "Archive:  /content/disaster.zip\n",
            "   creating: Dataset Collection/Test_set/\n",
            "   creating: Dataset Collection/Test_set/Cyclone/\n",
            "  inflating: Dataset Collection/Test_set/Cyclone/190.jpg  \n",
            "  inflating: Dataset Collection/Test_set/Cyclone/191.jpg  \n",
            "  inflating: Dataset Collection/Test_set/Cyclone/192.jpg  \n",
            "  inflating: Dataset Collection/Test_set/Cyclone/193.jpg  \n",
            "  inflating: Dataset Collection/Test_set/Cyclone/194.jpg  \n",
            "  inflating: Dataset Collection/Test_set/Cyclone/195.jpg  \n",
            "  inflating: Dataset Collection/Test_set/Cyclone/196.jpg  \n",
            "  inflating: Dataset Collection/Test_set/Cyclone/197.jpg  \n",
            "  inflating: Dataset Collection/Test_set/Cyclone/198.jpg  \n",
            "  inflating: Dataset Collection/Test_set/Cyclone/199.jpg  \n",
            "   creating: Dataset Collection/Test_set/Earthquake/\n",
            "  inflating: Dataset Collection/Test_set/Earthquake/181.jpg  \n",
            "  inflating: Dataset Collection/Test_set/Earthquake/182.jpg  \n",
            "  inflating: Dataset Collection/Test_set/Earthquake/183.jpg  \n",
            "  inflating: Dataset Collection/Test_set/Earthquake/184.jpg  \n",
            "  inflating: Dataset Collection/Test_set/Earthquake/185.png  \n",
            "  inflating: Dataset Collection/Test_set/Earthquake/186.jpg  \n",
            "  inflating: Dataset Collection/Test_set/Earthquake/187.jpg  \n",
            " extracting: Dataset Collection/Test_set/Earthquake/188.png  \n",
            "  inflating: Dataset Collection/Test_set/Earthquake/189.png  \n",
            "  inflating: Dataset Collection/Test_set/Earthquake/190.png  \n",
            "   creating: Dataset Collection/Test_set/Flood/\n",
            "  inflating: Dataset Collection/Test_set/Flood/170.jpg  \n",
            "  inflating: Dataset Collection/Test_set/Flood/171.jpg  \n",
            "  inflating: Dataset Collection/Test_set/Flood/172.jpg  \n",
            "  inflating: Dataset Collection/Test_set/Flood/173.jpg  \n",
            "  inflating: Dataset Collection/Test_set/Flood/174.jpg  \n",
            "  inflating: Dataset Collection/Test_set/Flood/175.jpg  \n",
            "  inflating: Dataset Collection/Test_set/Flood/176.jpg  \n",
            "  inflating: Dataset Collection/Test_set/Flood/177.jpg  \n",
            "  inflating: Dataset Collection/Test_set/Flood/178.jpg  \n",
            "  inflating: Dataset Collection/Test_set/Flood/179.jpg  \n",
            "  inflating: Dataset Collection/Test_set/Flood/180.jpg  \n",
            "   creating: Dataset Collection/Test_set/Storms/\n",
            "  inflating: Dataset Collection/Test_set/Storms/150.jpg  \n",
            "  inflating: Dataset Collection/Test_set/Storms/151.jpg  \n",
            "  inflating: Dataset Collection/Test_set/Storms/152.jpg  \n",
            "  inflating: Dataset Collection/Test_set/Storms/153.jpg  \n",
            "  inflating: Dataset Collection/Test_set/Storms/154.jpg  \n",
            "  inflating: Dataset Collection/Test_set/Storms/155.jpg  \n",
            "  inflating: Dataset Collection/Test_set/Storms/156.jpg  \n",
            "  inflating: Dataset Collection/Test_set/Storms/157.jpg  \n",
            "  inflating: Dataset Collection/Test_set/Storms/158.jpg  \n",
            "  inflating: Dataset Collection/Test_set/Storms/159.jpg  \n",
            "  inflating: Dataset Collection/Test_set/Storms/160.jpg  \n",
            "   creating: Dataset Collection/Test_set/Wildfire/\n",
            "  inflating: Dataset Collection/Test_set/Wildfire/161.jpg  \n",
            "  inflating: Dataset Collection/Test_set/Wildfire/162.jpg  \n",
            "  inflating: Dataset Collection/Test_set/Wildfire/163.jpg  \n",
            "  inflating: Dataset Collection/Test_set/Wildfire/164.jpg  \n",
            "  inflating: Dataset Collection/Test_set/Wildfire/165.jpg  \n",
            "  inflating: Dataset Collection/Test_set/Wildfire/167.jpg  \n",
            "  inflating: Dataset Collection/Test_set/Wildfire/168.jpg  \n",
            "  inflating: Dataset Collection/Test_set/Wildfire/169.jpg  \n",
            "  inflating: Dataset Collection/Test_set/Wildfire/170.jpg  \n",
            "   creating: Dataset Collection/Train_set/\n",
            "   creating: Dataset Collection/Train_set/Cyclone/\n",
            "  inflating: Dataset Collection/Train_set/Cyclone/190.jpg  \n",
            "  inflating: Dataset Collection/Train_set/Cyclone/191.jpg  \n",
            "  inflating: Dataset Collection/Train_set/Cyclone/192.jpg  \n",
            "  inflating: Dataset Collection/Train_set/Cyclone/193.jpg  \n",
            "  inflating: Dataset Collection/Train_set/Cyclone/194.jpg  \n",
            "  inflating: Dataset Collection/Train_set/Cyclone/195.jpg  \n",
            "  inflating: Dataset Collection/Train_set/Cyclone/196.jpg  \n",
            "  inflating: Dataset Collection/Train_set/Cyclone/197.jpg  \n",
            "  inflating: Dataset Collection/Train_set/Cyclone/198.jpg  \n",
            "  inflating: Dataset Collection/Train_set/Cyclone/199.jpg  \n",
            "   creating: Dataset Collection/Train_set/Earthquake/\n",
            "  inflating: Dataset Collection/Train_set/Earthquake/181.jpg  \n",
            "  inflating: Dataset Collection/Train_set/Earthquake/182.jpg  \n",
            "  inflating: Dataset Collection/Train_set/Earthquake/183.jpg  \n",
            "  inflating: Dataset Collection/Train_set/Earthquake/184.jpg  \n",
            "  inflating: Dataset Collection/Train_set/Earthquake/185.png  \n",
            "  inflating: Dataset Collection/Train_set/Earthquake/186.jpg  \n",
            "  inflating: Dataset Collection/Train_set/Earthquake/187.jpg  \n",
            " extracting: Dataset Collection/Train_set/Earthquake/188.png  \n",
            "  inflating: Dataset Collection/Train_set/Earthquake/189.png  \n",
            "  inflating: Dataset Collection/Train_set/Earthquake/190.png  \n",
            "   creating: Dataset Collection/Train_set/Flood/\n",
            "  inflating: Dataset Collection/Train_set/Flood/170.jpg  \n",
            "  inflating: Dataset Collection/Train_set/Flood/171.jpg  \n",
            "  inflating: Dataset Collection/Train_set/Flood/172.jpg  \n",
            "  inflating: Dataset Collection/Train_set/Flood/173.jpg  \n",
            "  inflating: Dataset Collection/Train_set/Flood/174.jpg  \n",
            "  inflating: Dataset Collection/Train_set/Flood/175.jpg  \n",
            "  inflating: Dataset Collection/Train_set/Flood/176.jpg  \n",
            "  inflating: Dataset Collection/Train_set/Flood/177.jpg  \n",
            "  inflating: Dataset Collection/Train_set/Flood/178.jpg  \n",
            "  inflating: Dataset Collection/Train_set/Flood/179.jpg  \n",
            "  inflating: Dataset Collection/Train_set/Flood/180.jpg  \n",
            "   creating: Dataset Collection/Train_set/Storms/\n",
            "  inflating: Dataset Collection/Train_set/Storms/150.jpg  \n",
            "  inflating: Dataset Collection/Train_set/Storms/151.jpg  \n",
            "  inflating: Dataset Collection/Train_set/Storms/152.jpg  \n",
            "  inflating: Dataset Collection/Train_set/Storms/153.jpg  \n",
            "  inflating: Dataset Collection/Train_set/Storms/154.jpg  \n",
            "  inflating: Dataset Collection/Train_set/Storms/155.jpg  \n",
            "  inflating: Dataset Collection/Train_set/Storms/156.jpg  \n",
            "  inflating: Dataset Collection/Train_set/Storms/157.jpg  \n",
            "  inflating: Dataset Collection/Train_set/Storms/158.jpg  \n",
            "  inflating: Dataset Collection/Train_set/Storms/159.jpg  \n",
            "  inflating: Dataset Collection/Train_set/Storms/160.jpg  \n",
            "   creating: Dataset Collection/Train_set/Wildfire/\n",
            "  inflating: Dataset Collection/Train_set/Wildfire/161.jpg  \n",
            "  inflating: Dataset Collection/Train_set/Wildfire/162.jpg  \n",
            "  inflating: Dataset Collection/Train_set/Wildfire/163.jpg  \n",
            "  inflating: Dataset Collection/Train_set/Wildfire/164.jpg  \n",
            "  inflating: Dataset Collection/Train_set/Wildfire/165.jpg  \n",
            "  inflating: Dataset Collection/Train_set/Wildfire/167.jpg  \n",
            "  inflating: Dataset Collection/Train_set/Wildfire/168.jpg  \n",
            "  inflating: Dataset Collection/Train_set/Wildfire/169.jpg  \n",
            "  inflating: Dataset Collection/Train_set/Wildfire/170.jpg  \n"
          ]
        }
      ],
      "source": [
        "!unzip '/content/disaster.zip'"
      ]
    },
    {
      "cell_type": "code",
      "source": [
        "#importing image data generator library\n",
        "\n",
        "from keras.preprocessing.image import ImageDataGenerator"
      ],
      "metadata": {
        "id": "KPfQZSqA6vvi"
      },
      "execution_count": 2,
      "outputs": []
    },
    {
      "cell_type": "code",
      "source": [
        "#Configuring image Data Generator Class\n",
        "#Setting Parameter for Image Augmentation for training data\n",
        "\n",
        "train_datagen = ImageDataGenerator(rescale = 1./255, shear_range = 0.2, zoom_range = 0.2, horizontal_flip = True)\n",
        "\n",
        "\n",
        "#Image Data Augmentation for testing data\n",
        "\n",
        "test_datagen = ImageDataGenerator(rescale = 1./255)"
      ],
      "metadata": {
        "id": "_4xklC0Z6wXU"
      },
      "execution_count": 3,
      "outputs": []
    },
    {
      "cell_type": "code",
      "source": [
        "#Performing data augmentation to train data\n",
        "\n",
        "x_train = train_datagen.flow_from_directory('/content/Dataset Collection/Train_set', target_size = (64,64), batch_size = 5, color_mode = 'rgb', class_mode = 'categorical')\n",
        "\n",
        "#performing data augmentation to test data\n",
        "\n",
        "x_test = test_datagen.flow_from_directory('/content/Dataset Collection/Test_set', target_size = (64,64), batch_size = 5, color_mode = 'rgb', class_mode = 'categorical')"
      ],
      "metadata": {
        "colab": {
          "base_uri": "https://localhost:8080/"
        },
        "id": "AbLhBs626w5N",
        "outputId": "f43ecd69-45fd-47aa-96a3-06fbae255071"
      },
      "execution_count": 6,
      "outputs": [
        {
          "output_type": "stream",
          "name": "stdout",
          "text": [
            "Found 51 images belonging to 5 classes.\n",
            "Found 51 images belonging to 5 classes.\n"
          ]
        }
      ]
    }
  ]
}